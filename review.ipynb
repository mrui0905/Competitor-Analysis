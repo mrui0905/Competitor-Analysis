{
 "cells": [
  {
   "cell_type": "code",
   "execution_count": 1,
   "metadata": {},
   "outputs": [],
   "source": [
    "import os\n",
    "import json\n",
    "import openai\n",
    "from anthropic import Anthropic, HUMAN_PROMPT, AI_PROMPT\n",
    "import pandas as pd\n",
    "import streamlit as st\n",
    "from dotenv import load_dotenv\n",
    "from sec_api import FormAdvApi, ExtractorApi\n",
    "\n",
    "load_dotenv()\n",
    "pd.set_option('display.max_columns', None)\n",
    "\n",
    "openai.api_key = st.secrets['OPENAI_API_KEY']\n",
    "form_adv_api = FormAdvApi(api_key=st.secrets['SEC_API_KEY'])\n",
    "extractor_api = ExtractorApi(api_key=st.secrets['SEC_API_KEY'])\n",
    "client = Anthropic(api_key=os.environ[\"ANTHROPIC_API_KEY\"])"
   ]
  },
  {
   "cell_type": "code",
   "execution_count": 7,
   "metadata": {},
   "outputs": [],
   "source": [
    "# open the file with read ('r') permission\n",
    "with open('data/text/cresset_brochure_text.txt', 'r') as f:\n",
    "    cresset_brochure_text = f.read()\n",
    "\n",
    "with open('data/text/cresset_formadv_text.txt', 'r') as f:\n",
    "    cresset_formadv_text = f.read()"
   ]
  },
  {
   "cell_type": "code",
   "execution_count": 8,
   "metadata": {},
   "outputs": [
    {
     "name": "stdout",
     "output_type": "stream",
     "text": [
      "The number of words in cresset_brochure_text is: 17050 & total length is: 114655\n",
      "The number of words in cresset_formadv_text is: 597685 & total length is: 3709776\n"
     ]
    }
   ],
   "source": [
    "def count_words_in_string(input_string):\n",
    "    words = input_string.split()\n",
    "    return len(words)\n",
    "\n",
    "# Test the function\n",
    "print(f\"The number of words in cresset_brochure_text is: {count_words_in_string(cresset_brochure_text)} & total length is: {len(cresset_brochure_text)}\")\n",
    "print(f\"The number of words in cresset_formadv_text is: {count_words_in_string(cresset_formadv_text)} & total length is: {len(cresset_formadv_text)}\")"
   ]
  }
 ],
 "metadata": {
  "kernelspec": {
   "display_name": "cc_cp",
   "language": "python",
   "name": "python3"
  },
  "language_info": {
   "codemirror_mode": {
    "name": "ipython",
    "version": 3
   },
   "file_extension": ".py",
   "mimetype": "text/x-python",
   "name": "python",
   "nbconvert_exporter": "python",
   "pygments_lexer": "ipython3",
   "version": "3.8.5"
  },
  "orig_nbformat": 4
 },
 "nbformat": 4,
 "nbformat_minor": 2
}
